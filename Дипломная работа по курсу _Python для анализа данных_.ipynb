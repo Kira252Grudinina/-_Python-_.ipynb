{
 "cells": [
  {
   "cell_type": "markdown",
   "id": "e2544af9",
   "metadata": {},
   "source": [
    " ### Загрузите файл HR.csv в pandas dataframe "
   ]
  },
  {
   "cell_type": "code",
   "execution_count": 5,
   "id": "0a36b27d",
   "metadata": {},
   "outputs": [
    {
     "data": {
      "text/html": [
       "<div>\n",
       "<style scoped>\n",
       "    .dataframe tbody tr th:only-of-type {\n",
       "        vertical-align: middle;\n",
       "    }\n",
       "\n",
       "    .dataframe tbody tr th {\n",
       "        vertical-align: top;\n",
       "    }\n",
       "\n",
       "    .dataframe thead th {\n",
       "        text-align: right;\n",
       "    }\n",
       "</style>\n",
       "<table border=\"1\" class=\"dataframe\">\n",
       "  <thead>\n",
       "    <tr style=\"text-align: right;\">\n",
       "      <th></th>\n",
       "      <th>satisfaction_level</th>\n",
       "      <th>last_evaluation</th>\n",
       "      <th>number_project</th>\n",
       "      <th>average_montly_hours</th>\n",
       "      <th>time_spend_company</th>\n",
       "      <th>Work_accident</th>\n",
       "      <th>left</th>\n",
       "      <th>promotion_last_5years</th>\n",
       "      <th>department</th>\n",
       "      <th>salary</th>\n",
       "    </tr>\n",
       "  </thead>\n",
       "  <tbody>\n",
       "    <tr>\n",
       "      <th>0</th>\n",
       "      <td>0.38</td>\n",
       "      <td>0.53</td>\n",
       "      <td>2</td>\n",
       "      <td>157</td>\n",
       "      <td>3</td>\n",
       "      <td>0</td>\n",
       "      <td>1</td>\n",
       "      <td>0</td>\n",
       "      <td>sales</td>\n",
       "      <td>low</td>\n",
       "    </tr>\n",
       "    <tr>\n",
       "      <th>1</th>\n",
       "      <td>0.80</td>\n",
       "      <td>0.86</td>\n",
       "      <td>5</td>\n",
       "      <td>262</td>\n",
       "      <td>6</td>\n",
       "      <td>0</td>\n",
       "      <td>1</td>\n",
       "      <td>0</td>\n",
       "      <td>sales</td>\n",
       "      <td>medium</td>\n",
       "    </tr>\n",
       "    <tr>\n",
       "      <th>2</th>\n",
       "      <td>0.11</td>\n",
       "      <td>0.88</td>\n",
       "      <td>7</td>\n",
       "      <td>272</td>\n",
       "      <td>4</td>\n",
       "      <td>0</td>\n",
       "      <td>1</td>\n",
       "      <td>0</td>\n",
       "      <td>sales</td>\n",
       "      <td>medium</td>\n",
       "    </tr>\n",
       "    <tr>\n",
       "      <th>3</th>\n",
       "      <td>0.72</td>\n",
       "      <td>0.87</td>\n",
       "      <td>5</td>\n",
       "      <td>223</td>\n",
       "      <td>5</td>\n",
       "      <td>0</td>\n",
       "      <td>1</td>\n",
       "      <td>0</td>\n",
       "      <td>sales</td>\n",
       "      <td>low</td>\n",
       "    </tr>\n",
       "    <tr>\n",
       "      <th>4</th>\n",
       "      <td>0.37</td>\n",
       "      <td>0.52</td>\n",
       "      <td>2</td>\n",
       "      <td>159</td>\n",
       "      <td>3</td>\n",
       "      <td>0</td>\n",
       "      <td>1</td>\n",
       "      <td>0</td>\n",
       "      <td>sales</td>\n",
       "      <td>low</td>\n",
       "    </tr>\n",
       "    <tr>\n",
       "      <th>...</th>\n",
       "      <td>...</td>\n",
       "      <td>...</td>\n",
       "      <td>...</td>\n",
       "      <td>...</td>\n",
       "      <td>...</td>\n",
       "      <td>...</td>\n",
       "      <td>...</td>\n",
       "      <td>...</td>\n",
       "      <td>...</td>\n",
       "      <td>...</td>\n",
       "    </tr>\n",
       "    <tr>\n",
       "      <th>14994</th>\n",
       "      <td>0.40</td>\n",
       "      <td>0.57</td>\n",
       "      <td>2</td>\n",
       "      <td>151</td>\n",
       "      <td>3</td>\n",
       "      <td>0</td>\n",
       "      <td>1</td>\n",
       "      <td>0</td>\n",
       "      <td>support</td>\n",
       "      <td>low</td>\n",
       "    </tr>\n",
       "    <tr>\n",
       "      <th>14995</th>\n",
       "      <td>0.37</td>\n",
       "      <td>0.48</td>\n",
       "      <td>2</td>\n",
       "      <td>160</td>\n",
       "      <td>3</td>\n",
       "      <td>0</td>\n",
       "      <td>1</td>\n",
       "      <td>0</td>\n",
       "      <td>support</td>\n",
       "      <td>low</td>\n",
       "    </tr>\n",
       "    <tr>\n",
       "      <th>14996</th>\n",
       "      <td>0.37</td>\n",
       "      <td>0.53</td>\n",
       "      <td>2</td>\n",
       "      <td>143</td>\n",
       "      <td>3</td>\n",
       "      <td>0</td>\n",
       "      <td>1</td>\n",
       "      <td>0</td>\n",
       "      <td>support</td>\n",
       "      <td>low</td>\n",
       "    </tr>\n",
       "    <tr>\n",
       "      <th>14997</th>\n",
       "      <td>0.11</td>\n",
       "      <td>0.96</td>\n",
       "      <td>6</td>\n",
       "      <td>280</td>\n",
       "      <td>4</td>\n",
       "      <td>0</td>\n",
       "      <td>1</td>\n",
       "      <td>0</td>\n",
       "      <td>support</td>\n",
       "      <td>low</td>\n",
       "    </tr>\n",
       "    <tr>\n",
       "      <th>14998</th>\n",
       "      <td>0.37</td>\n",
       "      <td>0.52</td>\n",
       "      <td>2</td>\n",
       "      <td>158</td>\n",
       "      <td>3</td>\n",
       "      <td>0</td>\n",
       "      <td>1</td>\n",
       "      <td>0</td>\n",
       "      <td>support</td>\n",
       "      <td>low</td>\n",
       "    </tr>\n",
       "  </tbody>\n",
       "</table>\n",
       "<p>14999 rows × 10 columns</p>\n",
       "</div>"
      ],
      "text/plain": [
       "       satisfaction_level  last_evaluation  number_project  \\\n",
       "0                    0.38             0.53               2   \n",
       "1                    0.80             0.86               5   \n",
       "2                    0.11             0.88               7   \n",
       "3                    0.72             0.87               5   \n",
       "4                    0.37             0.52               2   \n",
       "...                   ...              ...             ...   \n",
       "14994                0.40             0.57               2   \n",
       "14995                0.37             0.48               2   \n",
       "14996                0.37             0.53               2   \n",
       "14997                0.11             0.96               6   \n",
       "14998                0.37             0.52               2   \n",
       "\n",
       "       average_montly_hours  time_spend_company  Work_accident  left  \\\n",
       "0                       157                   3              0     1   \n",
       "1                       262                   6              0     1   \n",
       "2                       272                   4              0     1   \n",
       "3                       223                   5              0     1   \n",
       "4                       159                   3              0     1   \n",
       "...                     ...                 ...            ...   ...   \n",
       "14994                   151                   3              0     1   \n",
       "14995                   160                   3              0     1   \n",
       "14996                   143                   3              0     1   \n",
       "14997                   280                   4              0     1   \n",
       "14998                   158                   3              0     1   \n",
       "\n",
       "       promotion_last_5years department  salary  \n",
       "0                          0      sales     low  \n",
       "1                          0      sales  medium  \n",
       "2                          0      sales  medium  \n",
       "3                          0      sales     low  \n",
       "4                          0      sales     low  \n",
       "...                      ...        ...     ...  \n",
       "14994                      0    support     low  \n",
       "14995                      0    support     low  \n",
       "14996                      0    support     low  \n",
       "14997                      0    support     low  \n",
       "14998                      0    support     low  \n",
       "\n",
       "[14999 rows x 10 columns]"
      ]
     },
     "execution_count": 5,
     "metadata": {},
     "output_type": "execute_result"
    }
   ],
   "source": [
    "import pandas as pd\n",
    "df = pd.read_csv('HR.csv')\n",
    "df"
   ]
  },
  {
   "cell_type": "markdown",
   "id": "a2ef45bf",
   "metadata": {},
   "source": [
    "### Рассчитайте основные статистики для переменных\n",
    "* (среднее,медиана,мода,мин/макс,сред.отклонение)"
   ]
  },
  {
   "cell_type": "code",
   "execution_count": 8,
   "id": "1dc52fc6",
   "metadata": {},
   "outputs": [
    {
     "name": "stdout",
     "output_type": "stream",
     "text": [
      "satisfaction_level\n",
      "Базовые статистики: count    14999.000000\n",
      "mean         0.612834\n",
      "std          0.248631\n",
      "min          0.090000\n",
      "25%          0.440000\n",
      "50%          0.640000\n",
      "75%          0.820000\n",
      "max          1.000000\n",
      "Name: satisfaction_level, dtype: float64\n",
      "Мода: 0    0.1\n",
      "Name: satisfaction_level, dtype: float64\n",
      "Медиана: 0.64\n",
      "Размах: 0.37999999999999995\n",
      "number_project\n",
      "Базовые статистики: count    14999.000000\n",
      "mean         3.803054\n",
      "std          1.232592\n",
      "min          2.000000\n",
      "25%          3.000000\n",
      "50%          4.000000\n",
      "75%          5.000000\n",
      "max          7.000000\n",
      "Name: number_project, dtype: float64\n",
      "Мода: 0    4\n",
      "Name: number_project, dtype: int64\n",
      "Медиана: 4.0\n",
      "Размах: 2.0\n",
      "average_montly_hours\n",
      "Базовые статистики: count    14999.000000\n",
      "mean       201.050337\n",
      "std         49.943099\n",
      "min         96.000000\n",
      "25%        156.000000\n",
      "50%        200.000000\n",
      "75%        245.000000\n",
      "max        310.000000\n",
      "Name: average_montly_hours, dtype: float64\n",
      "Мода: 0    135\n",
      "1    156\n",
      "Name: average_montly_hours, dtype: int64\n",
      "Медиана: 200.0\n",
      "Размах: 89.0\n",
      "time_spend_company\n",
      "Базовые статистики: count    14999.000000\n",
      "mean         3.498233\n",
      "std          1.460136\n",
      "min          2.000000\n",
      "25%          3.000000\n",
      "50%          3.000000\n",
      "75%          4.000000\n",
      "max         10.000000\n",
      "Name: time_spend_company, dtype: float64\n",
      "Мода: 0    3\n",
      "Name: time_spend_company, dtype: int64\n",
      "Медиана: 3.0\n",
      "Размах: 1.0\n"
     ]
    },
    {
     "name": "stderr",
     "output_type": "stream",
     "text": [
      "/var/folders/x_/mxyt8w111r9f0gxnb78_lw6c0000gn/T/ipykernel_53147/2390067270.py:10: FutureWarning: Boolean inputs to the `inclusive` argument are deprecated in favour of `both` or `neither`.\n",
      "  remove_outliers = df[df[name1].between(lower_bound, upper_bound, inclusive=True)]\n",
      "/var/folders/x_/mxyt8w111r9f0gxnb78_lw6c0000gn/T/ipykernel_53147/2390067270.py:10: FutureWarning: Boolean inputs to the `inclusive` argument are deprecated in favour of `both` or `neither`.\n",
      "  remove_outliers = df[df[name1].between(lower_bound, upper_bound, inclusive=True)]\n",
      "/var/folders/x_/mxyt8w111r9f0gxnb78_lw6c0000gn/T/ipykernel_53147/2390067270.py:10: FutureWarning: Boolean inputs to the `inclusive` argument are deprecated in favour of `both` or `neither`.\n",
      "  remove_outliers = df[df[name1].between(lower_bound, upper_bound, inclusive=True)]\n",
      "/var/folders/x_/mxyt8w111r9f0gxnb78_lw6c0000gn/T/ipykernel_53147/2390067270.py:10: FutureWarning: Boolean inputs to the `inclusive` argument are deprecated in favour of `both` or `neither`.\n",
      "  remove_outliers = df[df[name1].between(lower_bound, upper_bound, inclusive=True)]\n"
     ]
    }
   ],
   "source": [
    "for name1, values2 in df[['satisfaction_level','number_project','average_montly_hours','time_spend_company']].iteritems():\n",
    "  moda=df[name1].mode()\n",
    "  mediana=df[name1].median()\n",
    "  q1=df[name1].quantile(0.25)\n",
    "  q3=df[name1].quantile(0.75)\n",
    "  IQR=q3-q1\n",
    "  min_max=df[name1].describe()\n",
    "  lower_bound = q1 - (1.5 * IQR) \n",
    "  upper_bound = q3 + (1.5 * IQR)\n",
    "  remove_outliers = df[df[name1].between(lower_bound, upper_bound, inclusive=True)]\n",
    "  print(name1)\n",
    "  print('Базовые статистики:',min_max)\n",
    "  print('Мода:',moda)\n",
    "  print('Медиана:',mediana)\n",
    "  print('Размах:',IQR)\n"
   ]
  },
  {
   "cell_type": "markdown",
   "id": "849296bf",
   "metadata": {},
   "source": [
    "### Рассчитайте и визуализировать корреляционную матрицу для количественных переменных.\n",
    "* Определите две самые скоррелированные и две наименее скоррелированные переменные."
   ]
  },
  {
   "cell_type": "code",
   "execution_count": 29,
   "id": "4f80c74f",
   "metadata": {},
   "outputs": [
    {
     "data": {
      "text/html": [
       "<style type=\"text/css\">\n",
       "#T_55c1f_row0_col0, #T_55c1f_row1_col1, #T_55c1f_row2_col2, #T_55c1f_row3_col3, #T_55c1f_row4_col4, #T_55c1f_row5_col5, #T_55c1f_row6_col6, #T_55c1f_row7_col7 {\n",
       "  background-color: #b40426;\n",
       "  color: #f1f1f1;\n",
       "}\n",
       "#T_55c1f_row0_col1 {\n",
       "  background-color: #5d7ce6;\n",
       "  color: #f1f1f1;\n",
       "}\n",
       "#T_55c1f_row0_col2, #T_55c1f_row0_col3, #T_55c1f_row0_col4, #T_55c1f_row0_col6, #T_55c1f_row5_col1, #T_55c1f_row6_col0, #T_55c1f_row6_col5, #T_55c1f_row6_col7, #T_55c1f_row7_col1 {\n",
       "  background-color: #3b4cc0;\n",
       "  color: #f1f1f1;\n",
       "}\n",
       "#T_55c1f_row0_col5 {\n",
       "  background-color: #7699f6;\n",
       "  color: #f1f1f1;\n",
       "}\n",
       "#T_55c1f_row0_col7 {\n",
       "  background-color: #5470de;\n",
       "  color: #f1f1f1;\n",
       "}\n",
       "#T_55c1f_row1_col0, #T_55c1f_row1_col3, #T_55c1f_row2_col1 {\n",
       "  background-color: #b1cbfc;\n",
       "  color: #000000;\n",
       "}\n",
       "#T_55c1f_row1_col2 {\n",
       "  background-color: #cad8ef;\n",
       "  color: #000000;\n",
       "}\n",
       "#T_55c1f_row1_col4 {\n",
       "  background-color: #80a3fa;\n",
       "  color: #f1f1f1;\n",
       "}\n",
       "#T_55c1f_row1_col5, #T_55c1f_row3_col5 {\n",
       "  background-color: #6282ea;\n",
       "  color: #f1f1f1;\n",
       "}\n",
       "#T_55c1f_row1_col6 {\n",
       "  background-color: #98b9ff;\n",
       "  color: #000000;\n",
       "}\n",
       "#T_55c1f_row1_col7 {\n",
       "  background-color: #4961d2;\n",
       "  color: #f1f1f1;\n",
       "}\n",
       "#T_55c1f_row2_col0 {\n",
       "  background-color: #7396f5;\n",
       "  color: #f1f1f1;\n",
       "}\n",
       "#T_55c1f_row2_col3 {\n",
       "  background-color: #c9d7f0;\n",
       "  color: #000000;\n",
       "}\n",
       "#T_55c1f_row2_col4 {\n",
       "  background-color: #94b6ff;\n",
       "  color: #000000;\n",
       "}\n",
       "#T_55c1f_row2_col5 {\n",
       "  background-color: #6384eb;\n",
       "  color: #f1f1f1;\n",
       "}\n",
       "#T_55c1f_row2_col6 {\n",
       "  background-color: #9dbdff;\n",
       "  color: #000000;\n",
       "}\n",
       "#T_55c1f_row2_col7 {\n",
       "  background-color: #4a63d3;\n",
       "  color: #f1f1f1;\n",
       "}\n",
       "#T_55c1f_row3_col0 {\n",
       "  background-color: #92b4fe;\n",
       "  color: #000000;\n",
       "}\n",
       "#T_55c1f_row3_col1 {\n",
       "  background-color: #aec9fc;\n",
       "  color: #000000;\n",
       "}\n",
       "#T_55c1f_row3_col2 {\n",
       "  background-color: #dadce0;\n",
       "  color: #000000;\n",
       "}\n",
       "#T_55c1f_row3_col4, #T_55c1f_row4_col0 {\n",
       "  background-color: #7ea1fa;\n",
       "  color: #f1f1f1;\n",
       "}\n",
       "#T_55c1f_row3_col6 {\n",
       "  background-color: #a9c6fd;\n",
       "  color: #000000;\n",
       "}\n",
       "#T_55c1f_row3_col7 {\n",
       "  background-color: #4b64d5;\n",
       "  color: #f1f1f1;\n",
       "}\n",
       "#T_55c1f_row4_col1 {\n",
       "  background-color: #6687ed;\n",
       "  color: #f1f1f1;\n",
       "}\n",
       "#T_55c1f_row4_col2, #T_55c1f_row7_col0 {\n",
       "  background-color: #9ebeff;\n",
       "  color: #000000;\n",
       "}\n",
       "#T_55c1f_row4_col3, #T_55c1f_row6_col2 {\n",
       "  background-color: #688aef;\n",
       "  color: #f1f1f1;\n",
       "}\n",
       "#T_55c1f_row4_col5 {\n",
       "  background-color: #6485ec;\n",
       "  color: #f1f1f1;\n",
       "}\n",
       "#T_55c1f_row4_col6 {\n",
       "  background-color: #bbd1f8;\n",
       "  color: #000000;\n",
       "}\n",
       "#T_55c1f_row4_col7 {\n",
       "  background-color: #6180e9;\n",
       "  color: #f1f1f1;\n",
       "}\n",
       "#T_55c1f_row5_col0 {\n",
       "  background-color: #a6c4fe;\n",
       "  color: #000000;\n",
       "}\n",
       "#T_55c1f_row5_col2, #T_55c1f_row7_col2 {\n",
       "  background-color: #5f7fe8;\n",
       "  color: #f1f1f1;\n",
       "}\n",
       "#T_55c1f_row5_col3 {\n",
       "  background-color: #3d50c3;\n",
       "  color: #f1f1f1;\n",
       "}\n",
       "#T_55c1f_row5_col4 {\n",
       "  background-color: #5673e0;\n",
       "  color: #f1f1f1;\n",
       "}\n",
       "#T_55c1f_row5_col6 {\n",
       "  background-color: #7093f3;\n",
       "  color: #f1f1f1;\n",
       "}\n",
       "#T_55c1f_row5_col7 {\n",
       "  background-color: #5875e1;\n",
       "  color: #f1f1f1;\n",
       "}\n",
       "#T_55c1f_row6_col1 {\n",
       "  background-color: #3e51c5;\n",
       "  color: #f1f1f1;\n",
       "}\n",
       "#T_55c1f_row6_col3 {\n",
       "  background-color: #5572df;\n",
       "  color: #f1f1f1;\n",
       "}\n",
       "#T_55c1f_row6_col4 {\n",
       "  background-color: #84a7fc;\n",
       "  color: #f1f1f1;\n",
       "}\n",
       "#T_55c1f_row7_col3 {\n",
       "  background-color: #3f53c6;\n",
       "  color: #f1f1f1;\n",
       "}\n",
       "#T_55c1f_row7_col4 {\n",
       "  background-color: #6b8df0;\n",
       "  color: #f1f1f1;\n",
       "}\n",
       "#T_55c1f_row7_col5 {\n",
       "  background-color: #6f92f3;\n",
       "  color: #f1f1f1;\n",
       "}\n",
       "#T_55c1f_row7_col6 {\n",
       "  background-color: #88abfd;\n",
       "  color: #000000;\n",
       "}\n",
       "</style>\n",
       "<table id=\"T_55c1f\">\n",
       "  <thead>\n",
       "    <tr>\n",
       "      <th class=\"blank level0\" >&nbsp;</th>\n",
       "      <th id=\"T_55c1f_level0_col0\" class=\"col_heading level0 col0\" >satisfaction_level</th>\n",
       "      <th id=\"T_55c1f_level0_col1\" class=\"col_heading level0 col1\" >last_evaluation</th>\n",
       "      <th id=\"T_55c1f_level0_col2\" class=\"col_heading level0 col2\" >number_project</th>\n",
       "      <th id=\"T_55c1f_level0_col3\" class=\"col_heading level0 col3\" >average_montly_hours</th>\n",
       "      <th id=\"T_55c1f_level0_col4\" class=\"col_heading level0 col4\" >time_spend_company</th>\n",
       "      <th id=\"T_55c1f_level0_col5\" class=\"col_heading level0 col5\" >Work_accident</th>\n",
       "      <th id=\"T_55c1f_level0_col6\" class=\"col_heading level0 col6\" >left</th>\n",
       "      <th id=\"T_55c1f_level0_col7\" class=\"col_heading level0 col7\" >promotion_last_5years</th>\n",
       "    </tr>\n",
       "  </thead>\n",
       "  <tbody>\n",
       "    <tr>\n",
       "      <th id=\"T_55c1f_level0_row0\" class=\"row_heading level0 row0\" >satisfaction_level</th>\n",
       "      <td id=\"T_55c1f_row0_col0\" class=\"data row0 col0\" >1.000000</td>\n",
       "      <td id=\"T_55c1f_row0_col1\" class=\"data row0 col1\" >0.105021</td>\n",
       "      <td id=\"T_55c1f_row0_col2\" class=\"data row0 col2\" >-0.142970</td>\n",
       "      <td id=\"T_55c1f_row0_col3\" class=\"data row0 col3\" >-0.020048</td>\n",
       "      <td id=\"T_55c1f_row0_col4\" class=\"data row0 col4\" >-0.100866</td>\n",
       "      <td id=\"T_55c1f_row0_col5\" class=\"data row0 col5\" >0.058697</td>\n",
       "      <td id=\"T_55c1f_row0_col6\" class=\"data row0 col6\" >-0.388375</td>\n",
       "      <td id=\"T_55c1f_row0_col7\" class=\"data row0 col7\" >0.025605</td>\n",
       "    </tr>\n",
       "    <tr>\n",
       "      <th id=\"T_55c1f_level0_row1\" class=\"row_heading level0 row1\" >last_evaluation</th>\n",
       "      <td id=\"T_55c1f_row1_col0\" class=\"data row1 col0\" >0.105021</td>\n",
       "      <td id=\"T_55c1f_row1_col1\" class=\"data row1 col1\" >1.000000</td>\n",
       "      <td id=\"T_55c1f_row1_col2\" class=\"data row1 col2\" >0.349333</td>\n",
       "      <td id=\"T_55c1f_row1_col3\" class=\"data row1 col3\" >0.339742</td>\n",
       "      <td id=\"T_55c1f_row1_col4\" class=\"data row1 col4\" >0.131591</td>\n",
       "      <td id=\"T_55c1f_row1_col5\" class=\"data row1 col5\" >-0.007104</td>\n",
       "      <td id=\"T_55c1f_row1_col6\" class=\"data row1 col6\" >0.006567</td>\n",
       "      <td id=\"T_55c1f_row1_col7\" class=\"data row1 col7\" >-0.008684</td>\n",
       "    </tr>\n",
       "    <tr>\n",
       "      <th id=\"T_55c1f_level0_row2\" class=\"row_heading level0 row2\" >number_project</th>\n",
       "      <td id=\"T_55c1f_row2_col0\" class=\"data row2 col0\" >-0.142970</td>\n",
       "      <td id=\"T_55c1f_row2_col1\" class=\"data row2 col1\" >0.349333</td>\n",
       "      <td id=\"T_55c1f_row2_col2\" class=\"data row2 col2\" >1.000000</td>\n",
       "      <td id=\"T_55c1f_row2_col3\" class=\"data row2 col3\" >0.417211</td>\n",
       "      <td id=\"T_55c1f_row2_col4\" class=\"data row2 col4\" >0.196786</td>\n",
       "      <td id=\"T_55c1f_row2_col5\" class=\"data row2 col5\" >-0.004741</td>\n",
       "      <td id=\"T_55c1f_row2_col6\" class=\"data row2 col6\" >0.023787</td>\n",
       "      <td id=\"T_55c1f_row2_col7\" class=\"data row2 col7\" >-0.006064</td>\n",
       "    </tr>\n",
       "    <tr>\n",
       "      <th id=\"T_55c1f_level0_row3\" class=\"row_heading level0 row3\" >average_montly_hours</th>\n",
       "      <td id=\"T_55c1f_row3_col0\" class=\"data row3 col0\" >-0.020048</td>\n",
       "      <td id=\"T_55c1f_row3_col1\" class=\"data row3 col1\" >0.339742</td>\n",
       "      <td id=\"T_55c1f_row3_col2\" class=\"data row3 col2\" >0.417211</td>\n",
       "      <td id=\"T_55c1f_row3_col3\" class=\"data row3 col3\" >1.000000</td>\n",
       "      <td id=\"T_55c1f_row3_col4\" class=\"data row3 col4\" >0.127755</td>\n",
       "      <td id=\"T_55c1f_row3_col5\" class=\"data row3 col5\" >-0.010143</td>\n",
       "      <td id=\"T_55c1f_row3_col6\" class=\"data row3 col6\" >0.071287</td>\n",
       "      <td id=\"T_55c1f_row3_col7\" class=\"data row3 col7\" >-0.003544</td>\n",
       "    </tr>\n",
       "    <tr>\n",
       "      <th id=\"T_55c1f_level0_row4\" class=\"row_heading level0 row4\" >time_spend_company</th>\n",
       "      <td id=\"T_55c1f_row4_col0\" class=\"data row4 col0\" >-0.100866</td>\n",
       "      <td id=\"T_55c1f_row4_col1\" class=\"data row4 col1\" >0.131591</td>\n",
       "      <td id=\"T_55c1f_row4_col2\" class=\"data row4 col2\" >0.196786</td>\n",
       "      <td id=\"T_55c1f_row4_col3\" class=\"data row4 col3\" >0.127755</td>\n",
       "      <td id=\"T_55c1f_row4_col4\" class=\"data row4 col4\" >1.000000</td>\n",
       "      <td id=\"T_55c1f_row4_col5\" class=\"data row4 col5\" >0.002120</td>\n",
       "      <td id=\"T_55c1f_row4_col6\" class=\"data row4 col6\" >0.144822</td>\n",
       "      <td id=\"T_55c1f_row4_col7\" class=\"data row4 col7\" >0.067433</td>\n",
       "    </tr>\n",
       "    <tr>\n",
       "      <th id=\"T_55c1f_level0_row5\" class=\"row_heading level0 row5\" >Work_accident</th>\n",
       "      <td id=\"T_55c1f_row5_col0\" class=\"data row5 col0\" >0.058697</td>\n",
       "      <td id=\"T_55c1f_row5_col1\" class=\"data row5 col1\" >-0.007104</td>\n",
       "      <td id=\"T_55c1f_row5_col2\" class=\"data row5 col2\" >-0.004741</td>\n",
       "      <td id=\"T_55c1f_row5_col3\" class=\"data row5 col3\" >-0.010143</td>\n",
       "      <td id=\"T_55c1f_row5_col4\" class=\"data row5 col4\" >0.002120</td>\n",
       "      <td id=\"T_55c1f_row5_col5\" class=\"data row5 col5\" >1.000000</td>\n",
       "      <td id=\"T_55c1f_row5_col6\" class=\"data row5 col6\" >-0.154622</td>\n",
       "      <td id=\"T_55c1f_row5_col7\" class=\"data row5 col7\" >0.039245</td>\n",
       "    </tr>\n",
       "    <tr>\n",
       "      <th id=\"T_55c1f_level0_row6\" class=\"row_heading level0 row6\" >left</th>\n",
       "      <td id=\"T_55c1f_row6_col0\" class=\"data row6 col0\" >-0.388375</td>\n",
       "      <td id=\"T_55c1f_row6_col1\" class=\"data row6 col1\" >0.006567</td>\n",
       "      <td id=\"T_55c1f_row6_col2\" class=\"data row6 col2\" >0.023787</td>\n",
       "      <td id=\"T_55c1f_row6_col3\" class=\"data row6 col3\" >0.071287</td>\n",
       "      <td id=\"T_55c1f_row6_col4\" class=\"data row6 col4\" >0.144822</td>\n",
       "      <td id=\"T_55c1f_row6_col5\" class=\"data row6 col5\" >-0.154622</td>\n",
       "      <td id=\"T_55c1f_row6_col6\" class=\"data row6 col6\" >1.000000</td>\n",
       "      <td id=\"T_55c1f_row6_col7\" class=\"data row6 col7\" >-0.061788</td>\n",
       "    </tr>\n",
       "    <tr>\n",
       "      <th id=\"T_55c1f_level0_row7\" class=\"row_heading level0 row7\" >promotion_last_5years</th>\n",
       "      <td id=\"T_55c1f_row7_col0\" class=\"data row7 col0\" >0.025605</td>\n",
       "      <td id=\"T_55c1f_row7_col1\" class=\"data row7 col1\" >-0.008684</td>\n",
       "      <td id=\"T_55c1f_row7_col2\" class=\"data row7 col2\" >-0.006064</td>\n",
       "      <td id=\"T_55c1f_row7_col3\" class=\"data row7 col3\" >-0.003544</td>\n",
       "      <td id=\"T_55c1f_row7_col4\" class=\"data row7 col4\" >0.067433</td>\n",
       "      <td id=\"T_55c1f_row7_col5\" class=\"data row7 col5\" >0.039245</td>\n",
       "      <td id=\"T_55c1f_row7_col6\" class=\"data row7 col6\" >-0.061788</td>\n",
       "      <td id=\"T_55c1f_row7_col7\" class=\"data row7 col7\" >1.000000</td>\n",
       "    </tr>\n",
       "  </tbody>\n",
       "</table>\n"
      ],
      "text/plain": [
       "<pandas.io.formats.style.Styler at 0x7f807e282d90>"
      ]
     },
     "execution_count": 29,
     "metadata": {},
     "output_type": "execute_result"
    }
   ],
   "source": [
    "corr = df.corr()\n",
    "corr.style.background_gradient(cmap='coolwarm')"
   ]
  },
  {
   "cell_type": "markdown",
   "id": "5977f224",
   "metadata": {},
   "source": [
    " ### Показать распределение сотрудников по зарплатам."
   ]
  },
  {
   "cell_type": "code",
   "execution_count": 9,
   "id": "cb7ec37c",
   "metadata": {},
   "outputs": [
    {
     "data": {
      "text/plain": [
       "low       7316\n",
       "medium    6446\n",
       "high      1237\n",
       "Name: salary, dtype: int64"
      ]
     },
     "execution_count": 9,
     "metadata": {},
     "output_type": "execute_result"
    }
   ],
   "source": [
    "salary_value=df['salary'].value_counts()\n",
    "salary_value"
   ]
  },
  {
   "cell_type": "markdown",
   "id": "bf48d8ed",
   "metadata": {},
   "source": [
    "### Рассчитайте сколько сотрудников работает в каждом департаменте."
   ]
  },
  {
   "cell_type": "code",
   "execution_count": 10,
   "id": "5793a163",
   "metadata": {},
   "outputs": [
    {
     "data": {
      "text/plain": [
       "sales          4140\n",
       "technical      2720\n",
       "support        2229\n",
       "IT             1227\n",
       "product_mng     902\n",
       "marketing       858\n",
       "RandD           787\n",
       "accounting      767\n",
       "hr              739\n",
       "management      630\n",
       "Name: department, dtype: int64"
      ]
     },
     "execution_count": 10,
     "metadata": {},
     "output_type": "execute_result"
    }
   ],
   "source": [
    "df['department'].value_counts()"
   ]
  },
  {
   "cell_type": "markdown",
   "id": "6c3728a5",
   "metadata": {},
   "source": [
    "### Показать распределение сотрудников по зарплатам в каждом  департаменте по отдельности"
   ]
  },
  {
   "cell_type": "code",
   "execution_count": 11,
   "id": "ca1c7639",
   "metadata": {},
   "outputs": [
    {
     "data": {
      "text/plain": [
       "department   salary\n",
       "IT           low        609\n",
       "             medium     535\n",
       "             high        83\n",
       "RandD        medium     372\n",
       "             low        364\n",
       "             high        51\n",
       "accounting   low        358\n",
       "             medium     335\n",
       "             high        74\n",
       "hr           medium     359\n",
       "             low        335\n",
       "             high        45\n",
       "management   high       225\n",
       "             medium     225\n",
       "             low        180\n",
       "marketing    low        402\n",
       "             medium     376\n",
       "             high        80\n",
       "product_mng  low        451\n",
       "             medium     383\n",
       "             high        68\n",
       "sales        low       2099\n",
       "             medium    1772\n",
       "             high       269\n",
       "support      low       1146\n",
       "             medium     942\n",
       "             high       141\n",
       "technical    low       1372\n",
       "             medium    1147\n",
       "             high       201\n",
       "Name: salary, dtype: int64"
      ]
     },
     "execution_count": 11,
     "metadata": {},
     "output_type": "execute_result"
    }
   ],
   "source": [
    "df.groupby('department')['salary'].value_counts()"
   ]
  },
  {
   "cell_type": "markdown",
   "id": "360457e9",
   "metadata": {},
   "source": [
    "### Проверить гипотезу, что сотрудники с высоким окладом проводят на работе больше времени, чем сотрудники с низким окладом"
   ]
  },
  {
   "cell_type": "code",
   "execution_count": 13,
   "id": "a37e7792",
   "metadata": {},
   "outputs": [
    {
     "name": "stdout",
     "output_type": "stream",
     "text": [
      "Статистика = 4542795.50000, p = 0.82413\n",
      "Не отклоняем нулевую гипотезу, распределения, вероятно, одинаковые\n"
     ]
    }
   ],
   "source": [
    "import scipy.stats as st\n",
    "low_salary=df.loc[df.salary=='low']\n",
    "high_salary=df.loc[df.salary=='high']\n",
    "\n",
    "data1=low_salary['average_montly_hours']\n",
    "data2=high_salary['average_montly_hours']\n",
    "\n",
    "stat, p = st.mannwhitneyu(data1, data2)\n",
    "\n",
    "print(f\"Статистика = {stat:.5f}, p = {p:.5f}\")\n",
    "\n",
    "if p > 0.05:\n",
    "    print('Не отклоняем нулевую гипотезу, распределения, вероятно, одинаковые')\n",
    "else:\n",
    "    print('Отклоняем нулевую гипотезу, распределения, вероятно, различаются')"
   ]
  },
  {
   "cell_type": "markdown",
   "id": "2d2f1a0a",
   "metadata": {},
   "source": [
    "### Рассчитать следующие показатели среди уволившихся и не уволившихся сотрудников (по отдельности):"
   ]
  },
  {
   "cell_type": "markdown",
   "id": "19ac2e8e",
   "metadata": {},
   "source": [
    "* Доля сотрудников с повышением за последние 5 лет"
   ]
  },
  {
   "cell_type": "code",
   "execution_count": 15,
   "id": "5b1f2824",
   "metadata": {},
   "outputs": [
    {
     "name": "stdout",
     "output_type": "stream",
     "text": [
      "Среди уволившихся сотрудников: \n",
      " 0    3552\n",
      "1      19\n",
      "Name: promotion_last_5years, dtype: int64\n"
     ]
    }
   ],
   "source": [
    "empl_left=df.loc[df.left==1]\n",
    "print('Среди уволившихся сотрудников: \\n',empl_left['promotion_last_5years'].value_counts())"
   ]
  },
  {
   "cell_type": "code",
   "execution_count": 17,
   "id": "4ecaff53",
   "metadata": {},
   "outputs": [
    {
     "name": "stdout",
     "output_type": "stream",
     "text": [
      "Среди не уволившихся сотрудников: \n",
      " 0    11128\n",
      "1      300\n",
      "Name: promotion_last_5years, dtype: int64\n"
     ]
    }
   ],
   "source": [
    "empl_stay=df.loc[df.left==0]\n",
    "print('Среди не уволившихся сотрудников: \\n',empl_stay['promotion_last_5years'].value_counts())"
   ]
  },
  {
   "cell_type": "markdown",
   "id": "986a045d",
   "metadata": {},
   "source": [
    "* Средняя степень удовлетворенности"
   ]
  },
  {
   "cell_type": "code",
   "execution_count": 19,
   "id": "bb1ae366",
   "metadata": {},
   "outputs": [
    {
     "name": "stdout",
     "output_type": "stream",
     "text": [
      "Средняя степень удовлетворенности среди уволившихся сотрудников: \n",
      " 0.44009801176140917\n"
     ]
    }
   ],
   "source": [
    "print('Средняя степень удовлетворенности среди уволившихся сотрудников: \\n',empl_left['satisfaction_level'].mean())"
   ]
  },
  {
   "cell_type": "code",
   "execution_count": 20,
   "id": "4682ae55",
   "metadata": {},
   "outputs": [
    {
     "name": "stdout",
     "output_type": "stream",
     "text": [
      "Средняя степень удовлетворенности среди не уволившихся сотрудников: \n",
      " 0.666809590479516\n"
     ]
    }
   ],
   "source": [
    "print('Средняя степень удовлетворенности среди не уволившихся сотрудников: \\n',empl_stay['satisfaction_level'].mean())"
   ]
  },
  {
   "cell_type": "markdown",
   "id": "3e274309",
   "metadata": {},
   "source": [
    "* Среднее количество проектов"
   ]
  },
  {
   "cell_type": "code",
   "execution_count": 21,
   "id": "3690f8ee",
   "metadata": {},
   "outputs": [
    {
     "name": "stdout",
     "output_type": "stream",
     "text": [
      "Среднее количество проектов уволившихся сотрудников :\n",
      " 3.8555026603192384\n"
     ]
    }
   ],
   "source": [
    "print('Среднее количество проектов уволившихся сотрудников :\\n',empl_left['number_project'].mean())"
   ]
  },
  {
   "cell_type": "code",
   "execution_count": 22,
   "id": "34ee87cc",
   "metadata": {},
   "outputs": [
    {
     "name": "stdout",
     "output_type": "stream",
     "text": [
      "Среднее количество проектов не уволившихся сотрудников :\n",
      " 3.786664333216661\n"
     ]
    }
   ],
   "source": [
    "print('Среднее количество проектов не уволившихся сотрудников :\\n',empl_stay['number_project'].mean())"
   ]
  },
  {
   "cell_type": "markdown",
   "id": "26b7ff25",
   "metadata": {},
   "source": [
    "### Разделить данные на тестовую и обучающую выборки Построить модель LDA, предсказывающую уволился ли сотрудник на основе имеющихся факторов (кроме department и salary)\n",
    "* Оценить качество модели на тестовой выборки"
   ]
  },
  {
   "cell_type": "code",
   "execution_count": 23,
   "id": "5a2d14ff",
   "metadata": {},
   "outputs": [],
   "source": [
    "X = df[['satisfaction_level','last_evaluation','number_project','average_montly_hours','time_spend_company','Work_accident','promotion_last_5years']]\n",
    "y = df['left']"
   ]
  },
  {
   "cell_type": "code",
   "execution_count": 24,
   "id": "59876a86",
   "metadata": {},
   "outputs": [],
   "source": [
    "from sklearn.model_selection import train_test_split\n",
    "X_train, X_test, y_train, y_test = train_test_split(X,y, test_size=0.2, random_state=0)"
   ]
  },
  {
   "cell_type": "code",
   "execution_count": 25,
   "id": "e9d0435c",
   "metadata": {},
   "outputs": [],
   "source": [
    "#Масштабирование данных\n",
    "from sklearn.preprocessing import StandardScaler\n",
    "\n",
    "sc = StandardScaler()\n",
    "X_train = sc.fit_transform(X_train)\n",
    "X_test = sc.transform(X_test)"
   ]
  },
  {
   "cell_type": "code",
   "execution_count": 26,
   "id": "6956e977",
   "metadata": {},
   "outputs": [],
   "source": [
    "from sklearn.discriminant_analysis import LinearDiscriminantAnalysis as LDA\n",
    "\n",
    "lda = LDA(n_components=1)\n",
    "X_train = lda.fit_transform(X_train, y_train)\n",
    "X_test = lda.transform(X_test)"
   ]
  },
  {
   "cell_type": "code",
   "execution_count": 27,
   "id": "318db7b4",
   "metadata": {},
   "outputs": [],
   "source": [
    "from sklearn.ensemble import RandomForestClassifier\n",
    "\n",
    "classifier = RandomForestClassifier(max_depth=2, random_state=0)\n",
    "\n",
    "classifier.fit(X_train, y_train)\n",
    "y_pred = classifier.predict(X_test)"
   ]
  },
  {
   "cell_type": "code",
   "execution_count": 28,
   "id": "6eec2d92",
   "metadata": {},
   "outputs": [
    {
     "name": "stdout",
     "output_type": "stream",
     "text": [
      "Эффективность модели: \n",
      " [[2144  155]\n",
      " [ 401  300]]\n",
      "Значения диагонали сверху вниз слева направо – это число верно  предсказанных значений.\n",
      "Точность 0.8146666666666667\n"
     ]
    }
   ],
   "source": [
    "from sklearn.metrics import confusion_matrix\n",
    "from sklearn.metrics import accuracy_score\n",
    "\n",
    "cm = confusion_matrix(y_test, y_pred)\n",
    "print('Эффективность модели: \\n',cm)\n",
    "print('Значения диагонали сверху вниз слева направо – это число верно  предсказанных значений.')\n",
    "print('Точность ' + str(accuracy_score(y_test, y_pred)))"
   ]
  },
  {
   "cell_type": "code",
   "execution_count": null,
   "id": "14173009",
   "metadata": {},
   "outputs": [],
   "source": []
  }
 ],
 "metadata": {
  "kernelspec": {
   "display_name": "Python 3 (ipykernel)",
   "language": "python",
   "name": "python3"
  },
  "language_info": {
   "codemirror_mode": {
    "name": "ipython",
    "version": 3
   },
   "file_extension": ".py",
   "mimetype": "text/x-python",
   "name": "python",
   "nbconvert_exporter": "python",
   "pygments_lexer": "ipython3",
   "version": "3.9.12"
  }
 },
 "nbformat": 4,
 "nbformat_minor": 5
}
